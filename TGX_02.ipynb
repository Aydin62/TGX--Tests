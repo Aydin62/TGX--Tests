{
  "nbformat": 4,
  "nbformat_minor": 0,
  "metadata": {
    "colab": {
      "provenance": [],
      "authorship_tag": "ABX9TyNE7nSlUOQoSMN5zpmTLZK2",
      "include_colab_link": true
    },
    "kernelspec": {
      "name": "python3",
      "display_name": "Python 3"
    },
    "language_info": {
      "name": "python"
    }
  },
  "cells": [
    {
      "cell_type": "markdown",
      "metadata": {
        "id": "view-in-github",
        "colab_type": "text"
      },
      "source": [
        "<a href=\"https://colab.research.google.com/github/Aydin62/TGX--Tests/blob/main/TGX_02.ipynb\" target=\"_parent\"><img src=\"https://colab.research.google.com/assets/colab-badge.svg\" alt=\"Open In Colab\"/></a>"
      ]
    },
    {
      "cell_type": "code",
      "execution_count": 1,
      "metadata": {
        "id": "XeBhY3N0L_wK"
      },
      "outputs": [],
      "source": [
        "# The 2nd TGX test after the recent GitHub repo update"
      ]
    },
    {
      "cell_type": "code",
      "source": [],
      "metadata": {
        "id": "ewqu_4vDMMal"
      },
      "execution_count": null,
      "outputs": []
    }
  ]
}