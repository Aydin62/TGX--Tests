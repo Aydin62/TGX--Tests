{
  "nbformat": 4,
  "nbformat_minor": 0,
  "metadata": {
    "colab": {
      "provenance": [],
      "gpuType": "T4",
      "authorship_tag": "ABX9TyN1ZMG1mr7nM+Ir7XET6wCg",
      "include_colab_link": true
    },
    "kernelspec": {
      "name": "python3",
      "display_name": "Python 3"
    },
    "language_info": {
      "name": "python"
    },
    "accelerator": "GPU"
  },
  "cells": [
    {
      "cell_type": "markdown",
      "metadata": {
        "id": "view-in-github",
        "colab_type": "text"
      },
      "source": [
        "<a href=\"https://colab.research.google.com/github/Aydin62/TGX--Tests/blob/main/TGX_01.ipynb\" target=\"_parent\"><img src=\"https://colab.research.google.com/assets/colab-badge.svg\" alt=\"Open In Colab\"/></a>"
      ]
    },
    {
      "cell_type": "code",
      "source": [
        "! git clone --recursive https://github.com/ComplexData-MILA/TGX.git"
      ],
      "metadata": {
        "colab": {
          "base_uri": "https://localhost:8080/"
        },
        "id": "IkmgkLObHwxC",
        "outputId": "eebb6bd5-e89c-4eb8-dc2d-0155ac971f7c"
      },
      "execution_count": null,
      "outputs": [
        {
          "output_type": "stream",
          "name": "stdout",
          "text": [
            "Cloning into 'TGX'...\n",
            "remote: Enumerating objects: 1957, done.\u001b[K\n",
            "remote: Counting objects: 100% (262/262), done.\u001b[K\n",
            "remote: Compressing objects: 100% (116/116), done.\u001b[K\n",
            "remote: Total 1957 (delta 121), reused 195 (delta 103), pack-reused 1695\u001b[K\n",
            "Receiving objects: 100% (1957/1957), 26.30 MiB | 20.57 MiB/s, done.\n",
            "Resolving deltas: 100% (984/984), done.\n"
          ]
        }
      ]
    },
    {
      "cell_type": "code",
      "source": [
        "!pip install -r ./TGX/reqs-trimmed.txt"
      ],
      "metadata": {
        "colab": {
          "base_uri": "https://localhost:8080/"
        },
        "id": "MpYuuTPTaC4K",
        "outputId": "c4d863f7-bdda-485b-e0bc-624a488aa22e"
      },
      "execution_count": null,
      "outputs": [
        {
          "output_type": "stream",
          "name": "stdout",
          "text": [
            "Requirement already satisfied: requests in /usr/local/lib/python3.10/dist-packages (from -r ./TGX/reqs-trimmed.txt (line 1)) (2.31.0)\n",
            "Requirement already satisfied: appdirs in /usr/local/lib/python3.10/dist-packages (from -r ./TGX/reqs-trimmed.txt (line 2)) (1.4.4)\n",
            "Collecting args (from -r ./TGX/reqs-trimmed.txt (line 3))\n",
            "  Downloading args-0.1.0.tar.gz (3.0 kB)\n",
            "  Preparing metadata (setup.py) ... \u001b[?25l\u001b[?25hdone\n",
            "Requirement already satisfied: certifi in /usr/local/lib/python3.10/dist-packages (from -r ./TGX/reqs-trimmed.txt (line 4)) (2024.2.2)\n",
            "Requirement already satisfied: charset-normalizer in /usr/local/lib/python3.10/dist-packages (from -r ./TGX/reqs-trimmed.txt (line 5)) (3.3.2)\n",
            "Requirement already satisfied: click in /usr/local/lib/python3.10/dist-packages (from -r ./TGX/reqs-trimmed.txt (line 6)) (8.1.7)\n",
            "Collecting clint (from -r ./TGX/reqs-trimmed.txt (line 7))\n",
            "  Downloading clint-0.5.1.tar.gz (29 kB)\n",
            "  Preparing metadata (setup.py) ... \u001b[?25l\u001b[?25hdone\n",
            "Requirement already satisfied: contourpy in /usr/local/lib/python3.10/dist-packages (from -r ./TGX/reqs-trimmed.txt (line 8)) (1.2.0)\n",
            "Requirement already satisfied: cycler in /usr/local/lib/python3.10/dist-packages (from -r ./TGX/reqs-trimmed.txt (line 9)) (0.12.1)\n",
            "Requirement already satisfied: Cython in /usr/local/lib/python3.10/dist-packages (from -r ./TGX/reqs-trimmed.txt (line 10)) (3.0.8)\n",
            "Requirement already satisfied: decorator in /usr/local/lib/python3.10/dist-packages (from -r ./TGX/reqs-trimmed.txt (line 11)) (4.4.2)\n",
            "Collecting distlib (from -r ./TGX/reqs-trimmed.txt (line 12))\n",
            "  Downloading distlib-0.3.8-py2.py3-none-any.whl (468 kB)\n",
            "\u001b[2K     \u001b[90m━━━━━━━━━━━━━━━━━━━━━━━━━━━━━━━━━━━━━━━━\u001b[0m \u001b[32m468.9/468.9 kB\u001b[0m \u001b[31m3.9 MB/s\u001b[0m eta \u001b[36m0:00:00\u001b[0m\n",
            "\u001b[?25hCollecting docker-pycreds (from -r ./TGX/reqs-trimmed.txt (line 13))\n",
            "  Downloading docker_pycreds-0.4.0-py2.py3-none-any.whl (9.0 kB)\n",
            "Requirement already satisfied: filelock in /usr/local/lib/python3.10/dist-packages (from -r ./TGX/reqs-trimmed.txt (line 14)) (3.13.1)\n",
            "Requirement already satisfied: fonttools in /usr/local/lib/python3.10/dist-packages (from -r ./TGX/reqs-trimmed.txt (line 15)) (4.48.1)\n",
            "Collecting geoopt (from -r ./TGX/reqs-trimmed.txt (line 16))\n",
            "  Downloading geoopt-0.5.0-py3-none-any.whl (90 kB)\n",
            "\u001b[2K     \u001b[90m━━━━━━━━━━━━━━━━━━━━━━━━━━━━━━━━━━━━━━━━\u001b[0m \u001b[32m90.1/90.1 kB\u001b[0m \u001b[31m13.2 MB/s\u001b[0m eta \u001b[36m0:00:00\u001b[0m\n",
            "\u001b[?25hCollecting gitdb (from -r ./TGX/reqs-trimmed.txt (line 17))\n",
            "  Downloading gitdb-4.0.11-py3-none-any.whl (62 kB)\n",
            "\u001b[2K     \u001b[90m━━━━━━━━━━━━━━━━━━━━━━━━━━━━━━━━━━━━━━━━\u001b[0m \u001b[32m62.7/62.7 kB\u001b[0m \u001b[31m8.8 MB/s\u001b[0m eta \u001b[36m0:00:00\u001b[0m\n",
            "\u001b[?25hCollecting GitPython (from -r ./TGX/reqs-trimmed.txt (line 18))\n",
            "  Downloading GitPython-3.1.42-py3-none-any.whl (195 kB)\n",
            "\u001b[2K     \u001b[90m━━━━━━━━━━━━━━━━━━━━━━━━━━━━━━━━━━━━━━━━\u001b[0m \u001b[32m195.4/195.4 kB\u001b[0m \u001b[31m21.5 MB/s\u001b[0m eta \u001b[36m0:00:00\u001b[0m\n",
            "\u001b[?25hRequirement already satisfied: idna in /usr/local/lib/python3.10/dist-packages (from -r ./TGX/reqs-trimmed.txt (line 19)) (3.6)\n",
            "Requirement already satisfied: importlib-resources in /usr/local/lib/python3.10/dist-packages (from -r ./TGX/reqs-trimmed.txt (line 20)) (6.1.1)\n",
            "Requirement already satisfied: Jinja2 in /usr/local/lib/python3.10/dist-packages (from -r ./TGX/reqs-trimmed.txt (line 21)) (3.1.3)\n",
            "Requirement already satisfied: joblib in /usr/local/lib/python3.10/dist-packages (from -r ./TGX/reqs-trimmed.txt (line 22)) (1.3.2)\n",
            "Requirement already satisfied: kiwisolver in /usr/local/lib/python3.10/dist-packages (from -r ./TGX/reqs-trimmed.txt (line 23)) (1.4.5)\n",
            "Requirement already satisfied: MarkupSafe in /usr/local/lib/python3.10/dist-packages (from -r ./TGX/reqs-trimmed.txt (line 24)) (2.1.5)\n",
            "Requirement already satisfied: matplotlib in /usr/local/lib/python3.10/dist-packages (from -r ./TGX/reqs-trimmed.txt (line 25)) (3.7.1)\n",
            "Requirement already satisfied: more-itertools in /usr/local/lib/python3.10/dist-packages (from -r ./TGX/reqs-trimmed.txt (line 26)) (10.1.0)\n",
            "Requirement already satisfied: mpmath in /usr/local/lib/python3.10/dist-packages (from -r ./TGX/reqs-trimmed.txt (line 27)) (1.3.0)\n",
            "Requirement already satisfied: networkx in /usr/local/lib/python3.10/dist-packages (from -r ./TGX/reqs-trimmed.txt (line 28)) (3.2.1)\n",
            "Requirement already satisfied: numpy in /usr/local/lib/python3.10/dist-packages (from -r ./TGX/reqs-trimmed.txt (line 29)) (1.25.2)\n",
            "Requirement already satisfied: packaging in /usr/local/lib/python3.10/dist-packages (from -r ./TGX/reqs-trimmed.txt (line 30)) (23.2)\n",
            "Requirement already satisfied: pandas in /usr/local/lib/python3.10/dist-packages (from -r ./TGX/reqs-trimmed.txt (line 31)) (1.5.3)\n",
            "Requirement already satisfied: Pillow in /usr/local/lib/python3.10/dist-packages (from -r ./TGX/reqs-trimmed.txt (line 32)) (9.4.0)\n",
            "Requirement already satisfied: protobuf in /usr/local/lib/python3.10/dist-packages (from -r ./TGX/reqs-trimmed.txt (line 33)) (3.20.3)\n",
            "Requirement already satisfied: psutil in /usr/local/lib/python3.10/dist-packages (from -r ./TGX/reqs-trimmed.txt (line 34)) (5.9.5)\n",
            "Collecting py-tgb (from -r ./TGX/reqs-trimmed.txt (line 35))\n",
            "  Downloading py_tgb-0.9.2-py3-none-any.whl (61 kB)\n",
            "\u001b[2K     \u001b[90m━━━━━━━━━━━━━━━━━━━━━━━━━━━━━━━━━━━━━━━━\u001b[0m \u001b[32m61.8/61.8 kB\u001b[0m \u001b[31m9.0 MB/s\u001b[0m eta \u001b[36m0:00:00\u001b[0m\n",
            "\u001b[?25hRequirement already satisfied: pyparsing in /usr/local/lib/python3.10/dist-packages (from -r ./TGX/reqs-trimmed.txt (line 36)) (3.1.1)\n",
            "Requirement already satisfied: python-dateutil in /usr/local/lib/python3.10/dist-packages (from -r ./TGX/reqs-trimmed.txt (line 37)) (2.8.2)\n",
            "Requirement already satisfied: pytz in /usr/local/lib/python3.10/dist-packages (from -r ./TGX/reqs-trimmed.txt (line 38)) (2023.4)\n",
            "Requirement already satisfied: PyYAML in /usr/local/lib/python3.10/dist-packages (from -r ./TGX/reqs-trimmed.txt (line 39)) (6.0.1)\n",
            "Requirement already satisfied: scikit-learn in /usr/local/lib/python3.10/dist-packages (from -r ./TGX/reqs-trimmed.txt (line 41)) (1.2.2)\n",
            "Requirement already satisfied: scipy in /usr/local/lib/python3.10/dist-packages (from -r ./TGX/reqs-trimmed.txt (line 42)) (1.11.4)\n",
            "Requirement already satisfied: seaborn in /usr/local/lib/python3.10/dist-packages (from -r ./TGX/reqs-trimmed.txt (line 43)) (0.13.1)\n",
            "Collecting sentry-sdk (from -r ./TGX/reqs-trimmed.txt (line 44))\n",
            "  Downloading sentry_sdk-1.40.4-py2.py3-none-any.whl (257 kB)\n",
            "\u001b[2K     \u001b[90m━━━━━━━━━━━━━━━━━━━━━━━━━━━━━━━━━━━━━━━━\u001b[0m \u001b[32m257.9/257.9 kB\u001b[0m \u001b[31m25.8 MB/s\u001b[0m eta \u001b[36m0:00:00\u001b[0m\n",
            "\u001b[?25hCollecting setproctitle (from -r ./TGX/reqs-trimmed.txt (line 45))\n",
            "  Downloading setproctitle-1.3.3-cp310-cp310-manylinux_2_5_x86_64.manylinux1_x86_64.manylinux_2_17_x86_64.manylinux2014_x86_64.whl (30 kB)\n",
            "Collecting setuptools-scm (from -r ./TGX/reqs-trimmed.txt (line 46))\n",
            "  Downloading setuptools_scm-8.0.4-py3-none-any.whl (42 kB)\n",
            "\u001b[2K     \u001b[90m━━━━━━━━━━━━━━━━━━━━━━━━━━━━━━━━━━━━━━━━\u001b[0m \u001b[32m42.1/42.1 kB\u001b[0m \u001b[31m6.2 MB/s\u001b[0m eta \u001b[36m0:00:00\u001b[0m\n",
            "\u001b[?25hRequirement already satisfied: six in /usr/local/lib/python3.10/dist-packages (from -r ./TGX/reqs-trimmed.txt (line 47)) (1.16.0)\n",
            "Collecting smmap (from -r ./TGX/reqs-trimmed.txt (line 48))\n",
            "  Downloading smmap-5.0.1-py3-none-any.whl (24 kB)\n",
            "Requirement already satisfied: sympy in /usr/local/lib/python3.10/dist-packages (from -r ./TGX/reqs-trimmed.txt (line 49)) (1.12)\n",
            "Requirement already satisfied: threadpoolctl in /usr/local/lib/python3.10/dist-packages (from -r ./TGX/reqs-trimmed.txt (line 50)) (3.2.0)\n",
            "Requirement already satisfied: torch in /usr/local/lib/python3.10/dist-packages (from -r ./TGX/reqs-trimmed.txt (line 51)) (2.1.0+cu121)\n",
            "Collecting torch-geometric-temporal (from -r ./TGX/reqs-trimmed.txt (line 52))\n",
            "  Downloading torch_geometric_temporal-0.54.0.tar.gz (48 kB)\n",
            "\u001b[2K     \u001b[90m━━━━━━━━━━━━━━━━━━━━━━━━━━━━━━━━━━━━━━━━\u001b[0m \u001b[32m48.1/48.1 kB\u001b[0m \u001b[31m7.1 MB/s\u001b[0m eta \u001b[36m0:00:00\u001b[0m\n",
            "\u001b[?25h  Preparing metadata (setup.py) ... \u001b[?25l\u001b[?25hdone\n",
            "Collecting torch-geometric (from -r ./TGX/reqs-trimmed.txt (line 53))\n",
            "  Downloading torch_geometric-2.5.0-py3-none-any.whl (1.1 MB)\n",
            "\u001b[2K     \u001b[90m━━━━━━━━━━━━━━━━━━━━━━━━━━━━━━━━━━━━━━━━\u001b[0m \u001b[32m1.1/1.1 MB\u001b[0m \u001b[31m17.1 MB/s\u001b[0m eta \u001b[36m0:00:00\u001b[0m\n",
            "\u001b[?25hCollecting torch-scatter (from -r ./TGX/reqs-trimmed.txt (line 54))\n",
            "  Downloading torch_scatter-2.1.2.tar.gz (108 kB)\n",
            "\u001b[2K     \u001b[90m━━━━━━━━━━━━━━━━━━━━━━━━━━━━━━━━━━━━━━━━\u001b[0m \u001b[32m108.0/108.0 kB\u001b[0m \u001b[31m16.0 MB/s\u001b[0m eta \u001b[36m0:00:00\u001b[0m\n",
            "\u001b[?25h  Preparing metadata (setup.py) ... \u001b[?25l\u001b[?25hdone\n",
            "Collecting torch-sparse (from -r ./TGX/reqs-trimmed.txt (line 55))\n",
            "  Downloading torch_sparse-0.6.18.tar.gz (209 kB)\n",
            "\u001b[2K     \u001b[90m━━━━━━━━━━━━━━━━━━━━━━━━━━━━━━━━━━━━━━━━\u001b[0m \u001b[32m210.0/210.0 kB\u001b[0m \u001b[31m26.5 MB/s\u001b[0m eta \u001b[36m0:00:00\u001b[0m\n",
            "\u001b[?25h  Preparing metadata (setup.py) ... \u001b[?25l\u001b[?25hdone\n",
            "Requirement already satisfied: tqdm in /usr/local/lib/python3.10/dist-packages (from -r ./TGX/reqs-trimmed.txt (line 56)) (4.66.2)\n",
            "Requirement already satisfied: typing-extensions in /usr/local/lib/python3.10/dist-packages (from -r ./TGX/reqs-trimmed.txt (line 57)) (4.9.0)\n",
            "Collecting tzdata (from -r ./TGX/reqs-trimmed.txt (line 58))\n",
            "  Downloading tzdata-2024.1-py2.py3-none-any.whl (345 kB)\n",
            "\u001b[2K     \u001b[90m━━━━━━━━━━━━━━━━━━━━━━━━━━━━━━━━━━━━━━━━\u001b[0m \u001b[32m345.4/345.4 kB\u001b[0m \u001b[31m42.3 MB/s\u001b[0m eta \u001b[36m0:00:00\u001b[0m\n",
            "\u001b[?25hRequirement already satisfied: urllib3 in /usr/local/lib/python3.10/dist-packages (from -r ./TGX/reqs-trimmed.txt (line 59)) (2.0.7)\n",
            "Collecting virtualenv (from -r ./TGX/reqs-trimmed.txt (line 60))\n",
            "  Downloading virtualenv-20.25.0-py3-none-any.whl (3.8 MB)\n",
            "\u001b[2K     \u001b[90m━━━━━━━━━━━━━━━━━━━━━━━━━━━━━━━━━━━━━━━━\u001b[0m \u001b[32m3.8/3.8 MB\u001b[0m \u001b[31m50.4 MB/s\u001b[0m eta \u001b[36m0:00:00\u001b[0m\n",
            "\u001b[?25hCollecting wandb (from -r ./TGX/reqs-trimmed.txt (line 61))\n",
            "  Downloading wandb-0.16.3-py3-none-any.whl (2.2 MB)\n",
            "\u001b[2K     \u001b[90m━━━━━━━━━━━━━━━━━━━━━━━━━━━━━━━━━━━━━━━━\u001b[0m \u001b[32m2.2/2.2 MB\u001b[0m \u001b[31m91.8 MB/s\u001b[0m eta \u001b[36m0:00:00\u001b[0m\n",
            "\u001b[?25hRequirement already satisfied: zipp in /usr/local/lib/python3.10/dist-packages (from -r ./TGX/reqs-trimmed.txt (line 62)) (3.17.0)\n",
            "Requirement already satisfied: setuptools in /usr/local/lib/python3.10/dist-packages (from setuptools-scm->-r ./TGX/reqs-trimmed.txt (line 46)) (67.7.2)\n",
            "Requirement already satisfied: tomli>=1 in /usr/local/lib/python3.10/dist-packages (from setuptools-scm->-r ./TGX/reqs-trimmed.txt (line 46)) (2.0.1)\n",
            "Requirement already satisfied: fsspec in /usr/local/lib/python3.10/dist-packages (from torch->-r ./TGX/reqs-trimmed.txt (line 51)) (2023.6.0)\n",
            "Requirement already satisfied: triton==2.1.0 in /usr/local/lib/python3.10/dist-packages (from torch->-r ./TGX/reqs-trimmed.txt (line 51)) (2.1.0)\n",
            "INFO: pip is looking at multiple versions of torch-geometric-temporal to determine which version is compatible with other requirements. This could take a while.\n",
            "Collecting torch-geometric-temporal (from -r ./TGX/reqs-trimmed.txt (line 52))\n",
            "  Downloading torch_geometric_temporal-0.53.0.tar.gz (48 kB)\n",
            "\u001b[2K     \u001b[90m━━━━━━━━━━━━━━━━━━━━━━━━━━━━━━━━━━━━━━━━\u001b[0m \u001b[32m48.2/48.2 kB\u001b[0m \u001b[31m6.8 MB/s\u001b[0m eta \u001b[36m0:00:00\u001b[0m\n",
            "\u001b[?25h  Preparing metadata (setup.py) ... \u001b[?25l\u001b[?25hdone\n",
            "  Downloading torch_geometric_temporal-0.52.0.tar.gz (48 kB)\n",
            "\u001b[2K     \u001b[90m━━━━━━━━━━━━━━━━━━━━━━━━━━━━━━━━━━━━━━━━\u001b[0m \u001b[32m48.3/48.3 kB\u001b[0m \u001b[31m6.8 MB/s\u001b[0m eta \u001b[36m0:00:00\u001b[0m\n",
            "\u001b[?25h  Preparing metadata (setup.py) ... \u001b[?25l\u001b[?25hdone\n",
            "  Downloading torch_geometric_temporal-0.51.0.tar.gz (46 kB)\n",
            "\u001b[2K     \u001b[90m━━━━━━━━━━━━━━━━━━━━━━━━━━━━━━━━━━━━━━━━\u001b[0m \u001b[32m46.4/46.4 kB\u001b[0m \u001b[31m7.0 MB/s\u001b[0m eta \u001b[36m0:00:00\u001b[0m\n",
            "\u001b[?25h  Preparing metadata (setup.py) ... \u001b[?25l\u001b[?25hdone\n",
            "  Downloading torch_geometric_temporal-0.50.0.tar.gz (43 kB)\n",
            "\u001b[2K     \u001b[90m━━━━━━━━━━━━━━━━━━━━━━━━━━━━━━━━━━━━━━━━\u001b[0m \u001b[32m43.8/43.8 kB\u001b[0m \u001b[31m5.7 MB/s\u001b[0m eta \u001b[36m0:00:00\u001b[0m\n",
            "\u001b[?25h  Preparing metadata (setup.py) ... \u001b[?25l\u001b[?25hdone\n",
            "Requirement already satisfied: aiohttp in /usr/local/lib/python3.10/dist-packages (from torch-geometric->-r ./TGX/reqs-trimmed.txt (line 53)) (3.9.3)\n",
            "Requirement already satisfied: platformdirs<5,>=3.9.1 in /usr/local/lib/python3.10/dist-packages (from virtualenv->-r ./TGX/reqs-trimmed.txt (line 60)) (4.2.0)\n",
            "Requirement already satisfied: aiosignal>=1.1.2 in /usr/local/lib/python3.10/dist-packages (from aiohttp->torch-geometric->-r ./TGX/reqs-trimmed.txt (line 53)) (1.3.1)\n",
            "Requirement already satisfied: attrs>=17.3.0 in /usr/local/lib/python3.10/dist-packages (from aiohttp->torch-geometric->-r ./TGX/reqs-trimmed.txt (line 53)) (23.2.0)\n",
            "Requirement already satisfied: frozenlist>=1.1.1 in /usr/local/lib/python3.10/dist-packages (from aiohttp->torch-geometric->-r ./TGX/reqs-trimmed.txt (line 53)) (1.4.1)\n",
            "Requirement already satisfied: multidict<7.0,>=4.5 in /usr/local/lib/python3.10/dist-packages (from aiohttp->torch-geometric->-r ./TGX/reqs-trimmed.txt (line 53)) (6.0.5)\n",
            "Requirement already satisfied: yarl<2.0,>=1.0 in /usr/local/lib/python3.10/dist-packages (from aiohttp->torch-geometric->-r ./TGX/reqs-trimmed.txt (line 53)) (1.9.4)\n",
            "Requirement already satisfied: async-timeout<5.0,>=4.0 in /usr/local/lib/python3.10/dist-packages (from aiohttp->torch-geometric->-r ./TGX/reqs-trimmed.txt (line 53)) (4.0.3)\n",
            "Building wheels for collected packages: args, clint, torch-geometric-temporal, torch-scatter, torch-sparse\n",
            "  Building wheel for args (setup.py) ... \u001b[?25l\u001b[?25hdone\n",
            "  Created wheel for args: filename=args-0.1.0-py3-none-any.whl size=3318 sha256=03aa54468ab5c9d953ed2390f4448dc3aea96cb98554c3a2dfe681910e41393c\n",
            "  Stored in directory: /root/.cache/pip/wheels/18/d7/bc/7b88d8405d97070a1a62712fd639ea0ad8d14b3dd74075cca6\n",
            "  Building wheel for clint (setup.py) ... \u001b[?25l\u001b[?25hdone\n",
            "  Created wheel for clint: filename=clint-0.5.1-py3-none-any.whl size=34457 sha256=6eef8f41d4d71cb3f15a4a68630b57f781390e43e940f03a54abc1a641f8383e\n",
            "  Stored in directory: /root/.cache/pip/wheels/60/bd/a0/c20dd085251d95af656b5e3d287db7d4b4e8aec67b53a6f8dd\n",
            "  Building wheel for torch-geometric-temporal (setup.py) ... \u001b[?25l\u001b[?25hdone\n",
            "  Created wheel for torch-geometric-temporal: filename=torch_geometric_temporal-0.50.0-py3-none-any.whl size=72607 sha256=776d58d66b5734744d8b6392ea39f50dd51ffc4a25de2c9bdde9db1026a15d64\n",
            "  Stored in directory: /root/.cache/pip/wheels/0c/fe/a0/17e4dd2e227a5819b327f7e15965b5b7348e7140d6b3beb70a\n",
            "  Building wheel for torch-scatter (setup.py) ... \u001b[?25l\u001b[?25hdone\n",
            "  Created wheel for torch-scatter: filename=torch_scatter-2.1.2-cp310-cp310-linux_x86_64.whl size=3571335 sha256=cd933d8d184e3780a9fc5b2b7e3e006fdb66c4659fd356e8e3543c37bbd60d3f\n",
            "  Stored in directory: /root/.cache/pip/wheels/92/f1/2b/3b46d54b134259f58c8363568569053248040859b1a145b3ce\n",
            "  Building wheel for torch-sparse (setup.py) ... \u001b[?25l\u001b[?25hdone\n",
            "  Created wheel for torch-sparse: filename=torch_sparse-0.6.18-cp310-cp310-linux_x86_64.whl size=2659115 sha256=3e6ec06eb9581127653cfae52a2aa88e43a2a7dcc53cd1ae1fc8e2a6d0eefb70\n",
            "  Stored in directory: /root/.cache/pip/wheels/c9/dd/0f/a6a16f9f3b0236733d257b4b4ea91b548b984a341ed3b8f38c\n",
            "Successfully built args clint torch-geometric-temporal torch-scatter torch-sparse\n",
            "Installing collected packages: distlib, args, virtualenv, tzdata, torch-scatter, smmap, setuptools-scm, setproctitle, sentry-sdk, docker-pycreds, clint, torch-sparse, gitdb, torch-geometric, GitPython, geoopt, wandb, torch-geometric-temporal, py-tgb\n",
            "Successfully installed GitPython-3.1.42 args-0.1.0 clint-0.5.1 distlib-0.3.8 docker-pycreds-0.4.0 geoopt-0.5.0 gitdb-4.0.11 py-tgb-0.9.2 sentry-sdk-1.40.4 setproctitle-1.3.3 setuptools-scm-8.0.4 smmap-5.0.1 torch-geometric-2.5.0 torch-geometric-temporal-0.50.0 torch-scatter-2.1.2 torch-sparse-0.6.18 tzdata-2024.1 virtualenv-20.25.0 wandb-0.16.3\n"
          ]
        }
      ]
    },
    {
      "cell_type": "code",
      "source": [
        "pip install -i https://test.pypi.org/simple/ py-tgx"
      ],
      "metadata": {
        "colab": {
          "base_uri": "https://localhost:8080/"
        },
        "id": "vhhNR-n9bCpx",
        "outputId": "c8897e31-a1af-41b6-a903-62e24d38347b"
      },
      "execution_count": null,
      "outputs": [
        {
          "output_type": "stream",
          "name": "stdout",
          "text": [
            "Looking in indexes: https://test.pypi.org/simple/\n",
            "Collecting py-tgx\n",
            "  Downloading https://test-files.pythonhosted.org/packages/b5/0f/d80a20efdf62366b4504cfd4dd1160ec787e480b2ba82415e9f155ed4832/py_tgx-0.2.2-py3-none-any.whl (23 kB)\n",
            "Installing collected packages: py-tgx\n",
            "Successfully installed py-tgx-0.2.2\n"
          ]
        }
      ]
    },
    {
      "cell_type": "code",
      "source": [
        "import tgx\n",
        "dataset = tgx.tgb_data(\"tgbl-wiki\")\n",
        "ctdg = tgx.Graph(dataset)"
      ],
      "metadata": {
        "colab": {
          "base_uri": "https://localhost:8080/"
        },
        "id": "xWOGhxrUc03J",
        "outputId": "a93fd85f-d3d4-4b93-bc40-5cc56f07471b"
      },
      "execution_count": null,
      "outputs": [
        {
          "output_type": "stream",
          "name": "stdout",
          "text": [
            "Dataset tgbl-wiki version 2 not found.\n",
            "Please download the latest version of the dataset.\n",
            "Will you download the dataset(s) now? (y/N)\n",
            "y\n",
            "\u001b[93mDownload started, this might take a while . . . \u001b[0m\n",
            "Dataset title: tgbl-wiki\n",
            "\u001b[92mDownload completed \u001b[0m\n",
            "Dataset directory is  /usr/local/lib/python3.10/dist-packages/tgb/datasets/tgbl_wiki\n",
            "file not processed, generating processed file\n",
            "Number of loaded edges: 157474\n",
            "Number of unique edges:18257\n",
            "Available timestamps:  152757\n"
          ]
        }
      ]
    },
    {
      "cell_type": "code",
      "source": [
        "ctdg"
      ],
      "metadata": {
        "colab": {
          "base_uri": "https://localhost:8080/"
        },
        "id": "MFhwaiBkpBZM",
        "outputId": "a3c3db3e-55e9-4305-c8bc-40973e267ee4"
      },
      "execution_count": null,
      "outputs": [
        {
          "output_type": "execute_result",
          "data": {
            "text/plain": [
              "<tgx.classes.graph.Graph at 0x7d9478e22290>"
            ]
          },
          "metadata": {},
          "execution_count": 7
        }
      ]
    },
    {
      "cell_type": "code",
      "source": [
        "dataset2 = tgx.builtin.uci()\n",
        "ctdg2 = tgx.Graph(dataset2)"
      ],
      "metadata": {
        "colab": {
          "base_uri": "https://localhost:8080/"
        },
        "id": "is5LplwypMy2",
        "outputId": "65a92776-4820-4de8-d06c-36fa09e083d0"
      },
      "execution_count": null,
      "outputs": [
        {
          "output_type": "stream",
          "name": "stdout",
          "text": [
            "Data missing, download recommended!\n",
            "Will you download the dataset(s) now? (y/N)\n",
            "y\n",
            "./data\n",
            "https://zenodo.org/record/7213796/files/uci.zip\n",
            "Download started, this might take a while . . .\n",
            "Download completed\n",
            "Number of loaded edges: 59835\n",
            "Number of unique edges:20296\n",
            "Available timestamps:  58911\n"
          ]
        }
      ]
    },
    {
      "cell_type": "code",
      "source": [
        "from tgx.io.read import read_csv\n",
        "toy_fname = \"docs/tutorials/toy_data.csv\"\n",
        "edgelist = read_csv(toy_fname, header=True,index=False, t_col=0,)\n",
        "tgx.Graph(edgelist=edgelist)"
      ],
      "metadata": {
        "colab": {
          "base_uri": "https://localhost:8080/",
          "height": 332
        },
        "id": "Y4f4-GtxpSEn",
        "outputId": "0344548c-8d82-44ef-8503-5ea30cd35aa5"
      },
      "execution_count": null,
      "outputs": [
        {
          "output_type": "error",
          "ename": "AttributeError",
          "evalue": "'str' object has no attribute 'data'",
          "traceback": [
            "\u001b[0;31m---------------------------------------------------------------------------\u001b[0m",
            "\u001b[0;31mAttributeError\u001b[0m                            Traceback (most recent call last)",
            "\u001b[0;32m<ipython-input-9-5d398aebbe74>\u001b[0m in \u001b[0;36m<cell line: 3>\u001b[0;34m()\u001b[0m\n\u001b[1;32m      1\u001b[0m \u001b[0;32mfrom\u001b[0m \u001b[0mtgx\u001b[0m\u001b[0;34m.\u001b[0m\u001b[0mio\u001b[0m\u001b[0;34m.\u001b[0m\u001b[0mread\u001b[0m \u001b[0;32mimport\u001b[0m \u001b[0mread_csv\u001b[0m\u001b[0;34m\u001b[0m\u001b[0;34m\u001b[0m\u001b[0m\n\u001b[1;32m      2\u001b[0m \u001b[0mtoy_fname\u001b[0m \u001b[0;34m=\u001b[0m \u001b[0;34m\"docs/tutorials/toy_data.csv\"\u001b[0m\u001b[0;34m\u001b[0m\u001b[0;34m\u001b[0m\u001b[0m\n\u001b[0;32m----> 3\u001b[0;31m \u001b[0medgelist\u001b[0m \u001b[0;34m=\u001b[0m \u001b[0mread_csv\u001b[0m\u001b[0;34m(\u001b[0m\u001b[0mtoy_fname\u001b[0m\u001b[0;34m,\u001b[0m \u001b[0mheader\u001b[0m\u001b[0;34m=\u001b[0m\u001b[0;32mTrue\u001b[0m\u001b[0;34m,\u001b[0m\u001b[0mindex\u001b[0m\u001b[0;34m=\u001b[0m\u001b[0;32mFalse\u001b[0m\u001b[0;34m,\u001b[0m \u001b[0mt_col\u001b[0m\u001b[0;34m=\u001b[0m\u001b[0;36m0\u001b[0m\u001b[0;34m,\u001b[0m\u001b[0;34m)\u001b[0m\u001b[0;34m\u001b[0m\u001b[0;34m\u001b[0m\u001b[0m\n\u001b[0m\u001b[1;32m      4\u001b[0m \u001b[0mtgx\u001b[0m\u001b[0;34m.\u001b[0m\u001b[0mGraph\u001b[0m\u001b[0;34m(\u001b[0m\u001b[0medgelist\u001b[0m\u001b[0;34m=\u001b[0m\u001b[0medgelist\u001b[0m\u001b[0;34m)\u001b[0m\u001b[0;34m\u001b[0m\u001b[0;34m\u001b[0m\u001b[0m\n",
            "\u001b[0;32m/usr/local/lib/python3.10/dist-packages/tgx/io/read.py\u001b[0m in \u001b[0;36mread_csv\u001b[0;34m(fname, header, index, t_col, ts_sorted, max_intervals, weight, edge_feat, feat_size)\u001b[0m\n\u001b[1;32m     49\u001b[0m \u001b[0;34m\u001b[0m\u001b[0m\n\u001b[1;32m     50\u001b[0m     \u001b[0;32mif\u001b[0m \u001b[0misinstance\u001b[0m\u001b[0;34m(\u001b[0m\u001b[0mfname\u001b[0m\u001b[0;34m,\u001b[0m \u001b[0mtype\u001b[0m\u001b[0;34m)\u001b[0m \u001b[0;32mor\u001b[0m \u001b[0misinstance\u001b[0m\u001b[0;34m(\u001b[0m\u001b[0mfname\u001b[0m\u001b[0;34m,\u001b[0m \u001b[0mobject\u001b[0m\u001b[0;34m)\u001b[0m\u001b[0;34m:\u001b[0m\u001b[0;34m\u001b[0m\u001b[0;34m\u001b[0m\u001b[0m\n\u001b[0;32m---> 51\u001b[0;31m         \u001b[0;32mreturn\u001b[0m \u001b[0m_datasets_edgelist_loader\u001b[0m\u001b[0;34m(\u001b[0m\u001b[0mfname\u001b[0m\u001b[0;34m.\u001b[0m\u001b[0mdata\u001b[0m\u001b[0;34m)\u001b[0m\u001b[0;34m\u001b[0m\u001b[0;34m\u001b[0m\u001b[0m\n\u001b[0m\u001b[1;32m     52\u001b[0m     \u001b[0;32melif\u001b[0m \u001b[0misinstance\u001b[0m\u001b[0;34m(\u001b[0m\u001b[0mfname\u001b[0m\u001b[0;34m,\u001b[0m \u001b[0mstr\u001b[0m\u001b[0;34m)\u001b[0m\u001b[0;34m:\u001b[0m\u001b[0;34m\u001b[0m\u001b[0;34m\u001b[0m\u001b[0m\n\u001b[1;32m     53\u001b[0m         \u001b[0;32mreturn\u001b[0m \u001b[0m_load_edgelist\u001b[0m\u001b[0;34m(\u001b[0m\u001b[0mfname\u001b[0m\u001b[0;34m,\u001b[0m \u001b[0mcols_to_read\u001b[0m\u001b[0;34m,\u001b[0m \u001b[0mheader\u001b[0m\u001b[0;34m=\u001b[0m\u001b[0mheader\u001b[0m\u001b[0;34m)\u001b[0m\u001b[0;34m\u001b[0m\u001b[0;34m\u001b[0m\u001b[0m\n",
            "\u001b[0;31mAttributeError\u001b[0m: 'str' object has no attribute 'data'"
          ]
        }
      ]
    },
    {
      "cell_type": "code",
      "source": [
        "dataset = tgx.builtin.uci()\n",
        "ctdg = tgx.Graph(dataset)\n",
        "time_scale = \"weekly\"\n",
        "dtdg = ctdg.discretize(\"weekly\")"
      ],
      "metadata": {
        "colab": {
          "base_uri": "https://localhost:8080/"
        },
        "id": "RB2idrThpdbL",
        "outputId": "93c40cc8-5ced-4ed7-b81b-f3665a8eb005"
      },
      "execution_count": null,
      "outputs": [
        {
          "output_type": "stream",
          "name": "stdout",
          "text": [
            "Number of loaded edges: 59835\n",
            "Number of unique edges:20296\n",
            "Available timestamps:  58911\n",
            "Discretizing data to 27 timestamps...\n",
            "Discretization Done..!\n"
          ]
        }
      ]
    },
    {
      "cell_type": "code",
      "source": [
        "tgx.degree_over_time(dtdg, network_name=\"uci\")"
      ],
      "metadata": {
        "colab": {
          "base_uri": "https://localhost:8080/",
          "height": 544
        },
        "id": "ECNckEqPpj9E",
        "outputId": "2c13c584-5d53-4a1f-aae9-b3545347ea96"
      },
      "execution_count": null,
      "outputs": [
        {
          "output_type": "stream",
          "name": "stdout",
          "text": [
            "Plotting average degree per timestamp\n"
          ]
        },
        {
          "output_type": "display_data",
          "data": {
            "text/plain": [
              "<Figure size 900x600 with 1 Axes>"
            ],
            "image/png": "[encoded data removed]"
          },
          "metadata": {}
        },
        {
          "output_type": "stream",
          "name": "stdout",
          "text": [
            "Plotting Done!\n"
          ]
        }
      ]
    },
    {
      "cell_type": "code",
      "source": [
        "tgx.get_novelty(dtdg)"
      ],
      "metadata": {
        "colab": {
          "base_uri": "https://localhost:8080/"
        },
        "id": "PeYZOvwdqYWL",
        "outputId": "94530c34-62f4-4c67-c62f-84beeda5553a"
      },
      "execution_count": null,
      "outputs": [
        {
          "output_type": "stream",
          "name": "stdout",
          "text": [
            "INFO: Novelty: 0.6513046909405048\n"
          ]
        },
        {
          "output_type": "execute_result",
          "data": {
            "text/plain": [
              "0.6513046909405048"
            ]
          },
          "metadata": {},
          "execution_count": 16
        }
      ]
    },
    {
      "cell_type": "code",
      "source": [],
      "metadata": {
        "id": "OID9vJejqd0E"
      },
      "execution_count": null,
      "outputs": []
    },
    {
      "cell_type": "code",
      "source": [
        "!ls\n"
      ],
      "metadata": {
        "colab": {
          "base_uri": "https://localhost:8080/"
        },
        "id": "dazPx5LIroyT",
        "outputId": "b6577286-6300-4649-97ea-4ae89255a80f"
      },
      "execution_count": 17,
      "outputs": [
        {
          "output_type": "stream",
          "name": "stdout",
          "text": [
            "data  sample_data  TGX\tuci_ave_degree_per_ts.png\n"
          ]
        }
      ]
    },
    {
      "cell_type": "code",
      "source": [
        "!echo $PWD"
      ],
      "metadata": {
        "colab": {
          "base_uri": "https://localhost:8080/"
        },
        "id": "HkoKQT8rr90a",
        "outputId": "8ba796ea-85de-4fbd-8eff-eb905812716a"
      },
      "execution_count": 18,
      "outputs": [
        {
          "output_type": "stream",
          "name": "stdout",
          "text": [
            "/content\n"
          ]
        }
      ]
    },
    {
      "cell_type": "code",
      "source": [
        "!cd .."
      ],
      "metadata": {
        "id": "LCx4yiIisA5z"
      },
      "execution_count": 19,
      "outputs": []
    },
    {
      "cell_type": "code",
      "source": [
        "!ls\n"
      ],
      "metadata": {
        "colab": {
          "base_uri": "https://localhost:8080/"
        },
        "id": "BI2vIBx8sH8u",
        "outputId": "f9b995b2-0197-415e-cb80-da15af8c62bf"
      },
      "execution_count": 20,
      "outputs": [
        {
          "output_type": "stream",
          "name": "stdout",
          "text": [
            "data  sample_data  TGX\tuci_ave_degree_per_ts.png\n"
          ]
        }
      ]
    },
    {
      "cell_type": "code",
      "source": [
        "import tensorflow as tf\n",
        "tf.test.gpu_device_name()"
      ],
      "metadata": {
        "colab": {
          "base_uri": "https://localhost:8080/",
          "height": 35
        },
        "id": "KhGE2jTjsKC6",
        "outputId": "d1001d71-cc4a-4ef2-93e7-b92b2a2a36da"
      },
      "execution_count": 24,
      "outputs": [
        {
          "output_type": "execute_result",
          "data": {
            "text/plain": [
              "'/device:GPU:0'"
            ],
            "application/vnd.google.colaboratory.intrinsic+json": {
              "type": "string"
            }
          },
          "metadata": {},
          "execution_count": 24
        }
      ]
    }
  ]
}